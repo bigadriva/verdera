{
 "cells": [
  {
   "cell_type": "code",
   "execution_count": 2,
   "id": "ef195b41-6326-4c6b-a520-ead999a2c59a",
   "metadata": {
    "tags": []
   },
   "outputs": [],
   "source": [
    "import re\n",
    "\n",
    "import sqlalchemy as sql\n",
    "\n",
    "import numpy as np\n",
    "import pandas as pd\n",
    "\n",
    "import matplotlib.pyplot as plt\n",
    "import seaborn as sns"
   ]
  },
  {
   "cell_type": "code",
   "execution_count": 3,
   "id": "038f9b47-7f4a-4458-9464-8d1778696487",
   "metadata": {
    "tags": []
   },
   "outputs": [
    {
     "data": {
      "text/html": [
       "<div>\n",
       "<style scoped>\n",
       "    .dataframe tbody tr th:only-of-type {\n",
       "        vertical-align: middle;\n",
       "    }\n",
       "\n",
       "    .dataframe tbody tr th {\n",
       "        vertical-align: top;\n",
       "    }\n",
       "\n",
       "    .dataframe thead th {\n",
       "        text-align: right;\n",
       "    }\n",
       "</style>\n",
       "<table border=\"1\" class=\"dataframe\">\n",
       "  <thead>\n",
       "    <tr style=\"text-align: right;\">\n",
       "      <th></th>\n",
       "      <th>CNPJ do gerador</th>\n",
       "      <th>Razão Social do gerador</th>\n",
       "      <th>Estado</th>\n",
       "      <th>Município</th>\n",
       "      <th>Código da Categoria</th>\n",
       "      <th>Categoria de Atividade</th>\n",
       "      <th>Código do Detalhe</th>\n",
       "      <th>Detalhe</th>\n",
       "      <th>Ano da geração</th>\n",
       "      <th>Cód. Resíduo</th>\n",
       "      <th>Tipo de Resíduo</th>\n",
       "      <th>Quantidade Gerada</th>\n",
       "      <th>Unidade</th>\n",
       "      <th>Classificação Resíduo</th>\n",
       "      <th>Situação Cadastral</th>\n",
       "    </tr>\n",
       "  </thead>\n",
       "  <tbody>\n",
       "    <tr>\n",
       "      <th>0</th>\n",
       "      <td>00.001.388/0002-26</td>\n",
       "      <td>DISTRIBUIDORA BRASILIA DE VEICULOS S/A</td>\n",
       "      <td>DISTRITO FEDERAL</td>\n",
       "      <td>BRASILIA</td>\n",
       "      <td>18</td>\n",
       "      <td>Transporte, Terminais, Depósitos e Comércio</td>\n",
       "      <td>6</td>\n",
       "      <td>Comércio de combustíveis e derivados de petróleo</td>\n",
       "      <td>2016</td>\n",
       "      <td>160799</td>\n",
       "      <td>Outros resíduos não anteriormente especificados</td>\n",
       "      <td>2.034,43</td>\n",
       "      <td>kilogramas</td>\n",
       "      <td>Não Perigoso</td>\n",
       "      <td>Encerrado</td>\n",
       "    </tr>\n",
       "    <tr>\n",
       "      <th>1</th>\n",
       "      <td>00.001.388/0002-26</td>\n",
       "      <td>DISTRIBUIDORA BRASILIA DE VEICULOS S/A</td>\n",
       "      <td>DISTRITO FEDERAL</td>\n",
       "      <td>BRASILIA</td>\n",
       "      <td>18</td>\n",
       "      <td>Transporte, Terminais, Depósitos e Comércio</td>\n",
       "      <td>6</td>\n",
       "      <td>Comércio de combustíveis e derivados de petróleo</td>\n",
       "      <td>2016</td>\n",
       "      <td>200121</td>\n",
       "      <td>Lâmpadas fluorescentes, de vapor de sódio e me...</td>\n",
       "      <td>80,00</td>\n",
       "      <td>Unidade</td>\n",
       "      <td>Perigoso</td>\n",
       "      <td>Encerrado</td>\n",
       "    </tr>\n",
       "    <tr>\n",
       "      <th>2</th>\n",
       "      <td>00.001.388/0002-26</td>\n",
       "      <td>DISTRIBUIDORA BRASILIA DE VEICULOS S/A</td>\n",
       "      <td>DISTRITO FEDERAL</td>\n",
       "      <td>BRASILIA</td>\n",
       "      <td>18</td>\n",
       "      <td>Transporte, Terminais, Depósitos e Comércio</td>\n",
       "      <td>6</td>\n",
       "      <td>Comércio de combustíveis e derivados de petróleo</td>\n",
       "      <td>2016</td>\n",
       "      <td>130899</td>\n",
       "      <td>Outros resíduos não anteriormente especificados</td>\n",
       "      <td>538,54</td>\n",
       "      <td>kilogramas</td>\n",
       "      <td>Perigoso</td>\n",
       "      <td>Encerrado</td>\n",
       "    </tr>\n",
       "    <tr>\n",
       "      <th>3</th>\n",
       "      <td>00.001.388/0002-26</td>\n",
       "      <td>DISTRIBUIDORA BRASILIA DE VEICULOS S/A</td>\n",
       "      <td>DISTRITO FEDERAL</td>\n",
       "      <td>BRASILIA</td>\n",
       "      <td>18</td>\n",
       "      <td>Transporte, Terminais, Depósitos e Comércio</td>\n",
       "      <td>6</td>\n",
       "      <td>Comércio de combustíveis e derivados de petróleo</td>\n",
       "      <td>2016</td>\n",
       "      <td>130506</td>\n",
       "      <td>Óleos provenientes dos separadores óleo/água</td>\n",
       "      <td>4.300,00</td>\n",
       "      <td>Litro</td>\n",
       "      <td>Perigoso</td>\n",
       "      <td>Encerrado</td>\n",
       "    </tr>\n",
       "    <tr>\n",
       "      <th>4</th>\n",
       "      <td>00.001.388/0002-26</td>\n",
       "      <td>DISTRIBUIDORA BRASILIA DE VEICULOS S/A</td>\n",
       "      <td>DISTRITO FEDERAL</td>\n",
       "      <td>BRASILIA</td>\n",
       "      <td>18</td>\n",
       "      <td>Transporte, Terminais, Depósitos e Comércio</td>\n",
       "      <td>6</td>\n",
       "      <td>Comércio de combustíveis e derivados de petróleo</td>\n",
       "      <td>2016</td>\n",
       "      <td>130507</td>\n",
       "      <td>Água com óleo proveniente dos separadores óleo...</td>\n",
       "      <td>10.800,00</td>\n",
       "      <td>Litro</td>\n",
       "      <td>Perigoso</td>\n",
       "      <td>Encerrado</td>\n",
       "    </tr>\n",
       "  </tbody>\n",
       "</table>\n",
       "</div>"
      ],
      "text/plain": [
       "      CNPJ do gerador                 Razão Social do gerador  \\\n",
       "0  00.001.388/0002-26  DISTRIBUIDORA BRASILIA DE VEICULOS S/A   \n",
       "1  00.001.388/0002-26  DISTRIBUIDORA BRASILIA DE VEICULOS S/A   \n",
       "2  00.001.388/0002-26  DISTRIBUIDORA BRASILIA DE VEICULOS S/A   \n",
       "3  00.001.388/0002-26  DISTRIBUIDORA BRASILIA DE VEICULOS S/A   \n",
       "4  00.001.388/0002-26  DISTRIBUIDORA BRASILIA DE VEICULOS S/A   \n",
       "\n",
       "             Estado Município  Código da Categoria  \\\n",
       "0  DISTRITO FEDERAL  BRASILIA                   18   \n",
       "1  DISTRITO FEDERAL  BRASILIA                   18   \n",
       "2  DISTRITO FEDERAL  BRASILIA                   18   \n",
       "3  DISTRITO FEDERAL  BRASILIA                   18   \n",
       "4  DISTRITO FEDERAL  BRASILIA                   18   \n",
       "\n",
       "                        Categoria de Atividade  Código do Detalhe  \\\n",
       "0  Transporte, Terminais, Depósitos e Comércio                  6   \n",
       "1  Transporte, Terminais, Depósitos e Comércio                  6   \n",
       "2  Transporte, Terminais, Depósitos e Comércio                  6   \n",
       "3  Transporte, Terminais, Depósitos e Comércio                  6   \n",
       "4  Transporte, Terminais, Depósitos e Comércio                  6   \n",
       "\n",
       "                                            Detalhe  Ano da geração  \\\n",
       "0  Comércio de combustíveis e derivados de petróleo            2016   \n",
       "1  Comércio de combustíveis e derivados de petróleo            2016   \n",
       "2  Comércio de combustíveis e derivados de petróleo            2016   \n",
       "3  Comércio de combustíveis e derivados de petróleo            2016   \n",
       "4  Comércio de combustíveis e derivados de petróleo            2016   \n",
       "\n",
       "   Cód. Resíduo                                    Tipo de Resíduo  \\\n",
       "0        160799    Outros resíduos não anteriormente especificados   \n",
       "1        200121  Lâmpadas fluorescentes, de vapor de sódio e me...   \n",
       "2        130899    Outros resíduos não anteriormente especificados   \n",
       "3        130506       Óleos provenientes dos separadores óleo/água   \n",
       "4        130507  Água com óleo proveniente dos separadores óleo...   \n",
       "\n",
       "  Quantidade Gerada     Unidade Classificação Resíduo Situação Cadastral  \n",
       "0          2.034,43  kilogramas          Não Perigoso          Encerrado  \n",
       "1             80,00     Unidade              Perigoso          Encerrado  \n",
       "2            538,54  kilogramas              Perigoso          Encerrado  \n",
       "3          4.300,00       Litro              Perigoso          Encerrado  \n",
       "4         10.800,00       Litro              Perigoso          Encerrado  "
      ]
     },
     "execution_count": 3,
     "metadata": {},
     "output_type": "execute_result"
    }
   ],
   "source": [
    "df = pd.read_csv('../../data/relatorio.csv', sep=';')\n",
    "df.head()"
   ]
  },
  {
   "cell_type": "code",
   "execution_count": 4,
   "id": "a80586f3-3ba1-4e6b-a105-65f57b1a230e",
   "metadata": {
    "tags": []
   },
   "outputs": [],
   "source": [
    "df['cnpj'] = df['CNPJ do gerador'].apply(lambda cnpj: ''.join(digit for digit in cnpj if digit.isdigit()))"
   ]
  },
  {
   "cell_type": "code",
   "execution_count": 5,
   "id": "632853fd-32f0-4543-8700-e4266162c9d6",
   "metadata": {
    "tags": []
   },
   "outputs": [],
   "source": [
    "df_relevante = df[['cnpj', 'Quantidade Gerada', 'Unidade', 'Ano da geração']]"
   ]
  },
  {
   "cell_type": "code",
   "execution_count": 6,
   "id": "0c9be58c-0480-429a-8cf5-6ea302b01351",
   "metadata": {
    "tags": []
   },
   "outputs": [
    {
     "name": "stderr",
     "output_type": "stream",
     "text": [
      "/tmp/ipykernel_246645/944466757.py:7: SettingWithCopyWarning: \n",
      "A value is trying to be set on a copy of a slice from a DataFrame.\n",
      "Try using .loc[row_indexer,col_indexer] = value instead\n",
      "\n",
      "See the caveats in the documentation: https://pandas.pydata.org/pandas-docs/stable/user_guide/indexing.html#returning-a-view-versus-a-copy\n",
      "  df_relevante['qtde_residuo'] = df_relevante['Quantidade Gerada'].apply(parse_qtde)\n"
     ]
    }
   ],
   "source": [
    "def parse_qtde(qtde):\n",
    "    if not re.match(r'(\\d+\\.?)*\\d+,\\d+', qtde):\n",
    "        return None\n",
    "    \n",
    "    return float(qtde.replace('.', '').replace(',', '.'))\n",
    "\n",
    "df_relevante['qtde_residuo'] = df_relevante['Quantidade Gerada'].apply(parse_qtde)"
   ]
  },
  {
   "cell_type": "code",
   "execution_count": 7,
   "id": "d35026c2-7357-4666-9410-46047f7434e2",
   "metadata": {
    "tags": []
   },
   "outputs": [
    {
     "name": "stderr",
     "output_type": "stream",
     "text": [
      "/tmp/ipykernel_246645/919026996.py:1: FutureWarning: The default value of numeric_only in DataFrameGroupBy.sum is deprecated. In a future version, numeric_only will default to False. Either specify numeric_only or select only columns which should be valid for the function.\n",
      "  df_agrupado_por_ano = df_relevante.groupby(['cnpj', 'Unidade', 'Ano da geração']).sum().reset_index()\n"
     ]
    }
   ],
   "source": [
    "df_agrupado_por_ano = df_relevante.groupby(['cnpj', 'Unidade', 'Ano da geração']).sum().reset_index()"
   ]
  },
  {
   "cell_type": "code",
   "execution_count": 8,
   "id": "770ec5d7-e93c-430b-9b23-1e461b19e7cc",
   "metadata": {
    "tags": []
   },
   "outputs": [],
   "source": [
    "df_massa_e_volume = df_agrupado_por_ano[df_agrupado_por_ano['Unidade'] != 'Unidade'].copy()"
   ]
  },
  {
   "cell_type": "code",
   "execution_count": 10,
   "id": "a6f7db8c-aa5b-456f-b4c6-23de3f3b460b",
   "metadata": {
    "tags": []
   },
   "outputs": [],
   "source": [
    "df_massa_e_volume['qtde_padronizada'] = df_massa_e_volume['qtde_residuo'] / 1000\n",
    "df_massa_e_volume['unidade_padronizada'] = df_massa_e_volume['Unidade'].map({'kilogramas': 'ton/ano', 'Litro': 'm3/ano'})\n",
    "df_massa_e_volume['tipo_unidade_padronizada'] = df_massa_e_volume['unidade_padronizada'].map({'ton/ano': 'massa', 'm3/ano': 'volume'})"
   ]
  },
  {
   "cell_type": "code",
   "execution_count": 11,
   "id": "73725904-075e-46f6-97d4-2a7f9749f79e",
   "metadata": {
    "tags": []
   },
   "outputs": [
    {
     "data": {
      "text/html": [
       "<div>\n",
       "<style scoped>\n",
       "    .dataframe tbody tr th:only-of-type {\n",
       "        vertical-align: middle;\n",
       "    }\n",
       "\n",
       "    .dataframe tbody tr th {\n",
       "        vertical-align: top;\n",
       "    }\n",
       "\n",
       "    .dataframe thead th {\n",
       "        text-align: right;\n",
       "    }\n",
       "</style>\n",
       "<table border=\"1\" class=\"dataframe\">\n",
       "  <thead>\n",
       "    <tr style=\"text-align: right;\">\n",
       "      <th></th>\n",
       "      <th>cnpj</th>\n",
       "      <th>Ano da geração</th>\n",
       "      <th>tipo_unidade_padronizada</th>\n",
       "      <th>qtde_padronizada</th>\n",
       "      <th>unidade_padronizada</th>\n",
       "    </tr>\n",
       "  </thead>\n",
       "  <tbody>\n",
       "    <tr>\n",
       "      <th>0</th>\n",
       "      <td>00001388000226</td>\n",
       "      <td>2016</td>\n",
       "      <td>volume</td>\n",
       "      <td>15.10000</td>\n",
       "      <td>m3/ano</td>\n",
       "    </tr>\n",
       "    <tr>\n",
       "      <th>1</th>\n",
       "      <td>00001388000226</td>\n",
       "      <td>2017</td>\n",
       "      <td>volume</td>\n",
       "      <td>7.20000</td>\n",
       "      <td>m3/ano</td>\n",
       "    </tr>\n",
       "    <tr>\n",
       "      <th>2</th>\n",
       "      <td>00001388000226</td>\n",
       "      <td>2018</td>\n",
       "      <td>volume</td>\n",
       "      <td>14.40000</td>\n",
       "      <td>m3/ano</td>\n",
       "    </tr>\n",
       "    <tr>\n",
       "      <th>3</th>\n",
       "      <td>00001388000226</td>\n",
       "      <td>2019</td>\n",
       "      <td>volume</td>\n",
       "      <td>9.30000</td>\n",
       "      <td>m3/ano</td>\n",
       "    </tr>\n",
       "    <tr>\n",
       "      <th>8</th>\n",
       "      <td>00001388000226</td>\n",
       "      <td>2016</td>\n",
       "      <td>massa</td>\n",
       "      <td>2.57297</td>\n",
       "      <td>ton/ano</td>\n",
       "    </tr>\n",
       "  </tbody>\n",
       "</table>\n",
       "</div>"
      ],
      "text/plain": [
       "             cnpj  Ano da geração tipo_unidade_padronizada  qtde_padronizada  \\\n",
       "0  00001388000226            2016                   volume          15.10000   \n",
       "1  00001388000226            2017                   volume           7.20000   \n",
       "2  00001388000226            2018                   volume          14.40000   \n",
       "3  00001388000226            2019                   volume           9.30000   \n",
       "8  00001388000226            2016                    massa           2.57297   \n",
       "\n",
       "  unidade_padronizada  \n",
       "0              m3/ano  \n",
       "1              m3/ano  \n",
       "2              m3/ano  \n",
       "3              m3/ano  \n",
       "8             ton/ano  "
      ]
     },
     "execution_count": 11,
     "metadata": {},
     "output_type": "execute_result"
    }
   ],
   "source": [
    "df_massa_e_volume[['cnpj', 'Ano da geração', 'tipo_unidade_padronizada', 'qtde_padronizada', 'unidade_padronizada']].head()"
   ]
  },
  {
   "cell_type": "code",
   "execution_count": 12,
   "id": "24528f50-80e5-4628-aacf-5de79c053ecd",
   "metadata": {
    "tags": []
   },
   "outputs": [],
   "source": [
    "df_ibama_final = df_massa_e_volume[['cnpj', 'Ano da geração', 'tipo_unidade_padronizada', 'qtde_padronizada', 'unidade_padronizada']]"
   ]
  },
  {
   "cell_type": "code",
   "execution_count": 13,
   "id": "f7cfade9-4f5c-4709-b7d7-d76833be52b0",
   "metadata": {
    "tags": []
   },
   "outputs": [],
   "source": [
    "def categorizar_faixa_massa_residuo(y: float):\n",
    "    limites = [\n",
    "        (0, 1000),\n",
    "        (1000, 5000),\n",
    "        (5000,10000),\n",
    "        (10000,20000),\n",
    "        (20000,40000),\n",
    "        (40000,80000),\n",
    "        (80000,160000),\n",
    "        (160000,320000),\n",
    "        (320000,640000),\n",
    "        (640000,float('inf')),\n",
    "    ]\n",
    "    \n",
    "    for i, limite in enumerate(limites):\n",
    "        lim_inferior, lim_superior = limite\n",
    "        if lim_inferior < y < lim_superior:\n",
    "            return i\n",
    "    return -1"
   ]
  },
  {
   "cell_type": "code",
   "execution_count": 14,
   "id": "10702496-aad9-40dd-9392-5bc7788d1db8",
   "metadata": {
    "tags": []
   },
   "outputs": [
    {
     "name": "stderr",
     "output_type": "stream",
     "text": [
      "/tmp/ipykernel_246645/3935948677.py:1: SettingWithCopyWarning: \n",
      "A value is trying to be set on a copy of a slice from a DataFrame.\n",
      "Try using .loc[row_indexer,col_indexer] = value instead\n",
      "\n",
      "See the caveats in the documentation: https://pandas.pydata.org/pandas-docs/stable/user_guide/indexing.html#returning-a-view-versus-a-copy\n",
      "  df_ibama_final['faixa_massa_residuo'] = df_ibama_final['qtde_padronizada'].apply(categorizar_faixa_massa_residuo)\n"
     ]
    },
    {
     "data": {
      "text/html": [
       "<div>\n",
       "<style scoped>\n",
       "    .dataframe tbody tr th:only-of-type {\n",
       "        vertical-align: middle;\n",
       "    }\n",
       "\n",
       "    .dataframe tbody tr th {\n",
       "        vertical-align: top;\n",
       "    }\n",
       "\n",
       "    .dataframe thead th {\n",
       "        text-align: right;\n",
       "    }\n",
       "</style>\n",
       "<table border=\"1\" class=\"dataframe\">\n",
       "  <thead>\n",
       "    <tr style=\"text-align: right;\">\n",
       "      <th></th>\n",
       "      <th>cnpj</th>\n",
       "      <th>ano</th>\n",
       "      <th>tipo_unidade_padronizada</th>\n",
       "      <th>qtde_padronizada</th>\n",
       "      <th>unidade_padronizada</th>\n",
       "      <th>faixa_massa_residuo</th>\n",
       "    </tr>\n",
       "  </thead>\n",
       "  <tbody>\n",
       "    <tr>\n",
       "      <th>0</th>\n",
       "      <td>00001388000226</td>\n",
       "      <td>2016</td>\n",
       "      <td>volume</td>\n",
       "      <td>15.10000</td>\n",
       "      <td>m3/ano</td>\n",
       "      <td>0</td>\n",
       "    </tr>\n",
       "    <tr>\n",
       "      <th>1</th>\n",
       "      <td>00001388000226</td>\n",
       "      <td>2017</td>\n",
       "      <td>volume</td>\n",
       "      <td>7.20000</td>\n",
       "      <td>m3/ano</td>\n",
       "      <td>0</td>\n",
       "    </tr>\n",
       "    <tr>\n",
       "      <th>2</th>\n",
       "      <td>00001388000226</td>\n",
       "      <td>2018</td>\n",
       "      <td>volume</td>\n",
       "      <td>14.40000</td>\n",
       "      <td>m3/ano</td>\n",
       "      <td>0</td>\n",
       "    </tr>\n",
       "    <tr>\n",
       "      <th>3</th>\n",
       "      <td>00001388000226</td>\n",
       "      <td>2019</td>\n",
       "      <td>volume</td>\n",
       "      <td>9.30000</td>\n",
       "      <td>m3/ano</td>\n",
       "      <td>0</td>\n",
       "    </tr>\n",
       "    <tr>\n",
       "      <th>8</th>\n",
       "      <td>00001388000226</td>\n",
       "      <td>2016</td>\n",
       "      <td>massa</td>\n",
       "      <td>2.57297</td>\n",
       "      <td>ton/ano</td>\n",
       "      <td>0</td>\n",
       "    </tr>\n",
       "  </tbody>\n",
       "</table>\n",
       "</div>"
      ],
      "text/plain": [
       "             cnpj   ano tipo_unidade_padronizada  qtde_padronizada  \\\n",
       "0  00001388000226  2016                   volume          15.10000   \n",
       "1  00001388000226  2017                   volume           7.20000   \n",
       "2  00001388000226  2018                   volume          14.40000   \n",
       "3  00001388000226  2019                   volume           9.30000   \n",
       "8  00001388000226  2016                    massa           2.57297   \n",
       "\n",
       "  unidade_padronizada  faixa_massa_residuo  \n",
       "0              m3/ano                    0  \n",
       "1              m3/ano                    0  \n",
       "2              m3/ano                    0  \n",
       "3              m3/ano                    0  \n",
       "8             ton/ano                    0  "
      ]
     },
     "execution_count": 14,
     "metadata": {},
     "output_type": "execute_result"
    }
   ],
   "source": [
    "df_ibama_final['faixa_massa_residuo'] = df_ibama_final['qtde_padronizada'].apply(categorizar_faixa_massa_residuo)\n",
    "df_ibama_final = df_ibama_final.rename(columns={'Ano da geração': 'ano'})\n",
    "df_ibama_final.head()"
   ]
  },
  {
   "cell_type": "code",
   "execution_count": 15,
   "id": "e8c22d65-1147-4fa8-bc69-db66107c0548",
   "metadata": {
    "tags": []
   },
   "outputs": [],
   "source": [
    "df_ibama_final.to_csv('../../data/final_ibama.csv', index=False)"
   ]
  }
 ],
 "metadata": {
  "kernelspec": {
   "display_name": "Python 3 (ipykernel)",
   "language": "python",
   "name": "python3"
  },
  "language_info": {
   "codemirror_mode": {
    "name": "ipython",
    "version": 3
   },
   "file_extension": ".py",
   "mimetype": "text/x-python",
   "name": "python",
   "nbconvert_exporter": "python",
   "pygments_lexer": "ipython3",
   "version": "3.8.10"
  }
 },
 "nbformat": 4,
 "nbformat_minor": 5
}
