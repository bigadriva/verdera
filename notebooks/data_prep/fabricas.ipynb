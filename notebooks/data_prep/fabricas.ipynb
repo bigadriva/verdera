{
 "cells": [
  {
   "cell_type": "code",
   "execution_count": 1,
   "id": "4dcc5346-ea0a-4f69-9328-b6655ec014f2",
   "metadata": {
    "tags": []
   },
   "outputs": [],
   "source": [
    "import pandas as pd"
   ]
  },
  {
   "cell_type": "code",
   "execution_count": 2,
   "id": "00196be2-c32b-4477-8e59-16dbaffa42e9",
   "metadata": {
    "tags": []
   },
   "outputs": [
    {
     "data": {
      "text/html": [
       "<div>\n",
       "<style scoped>\n",
       "    .dataframe tbody tr th:only-of-type {\n",
       "        vertical-align: middle;\n",
       "    }\n",
       "\n",
       "    .dataframe tbody tr th {\n",
       "        vertical-align: top;\n",
       "    }\n",
       "\n",
       "    .dataframe thead th {\n",
       "        text-align: right;\n",
       "    }\n",
       "</style>\n",
       "<table border=\"1\" class=\"dataframe\">\n",
       "  <thead>\n",
       "    <tr style=\"text-align: right;\">\n",
       "      <th></th>\n",
       "      <th>Unidade</th>\n",
       "      <th>Cidade</th>\n",
       "      <th>Estado</th>\n",
       "      <th>CEP</th>\n",
       "      <th>Lat (graus)</th>\n",
       "      <th>Long (graus)</th>\n",
       "      <th>Lat (rad)</th>\n",
       "      <th>Long (rad)</th>\n",
       "    </tr>\n",
       "  </thead>\n",
       "  <tbody>\n",
       "    <tr>\n",
       "      <th>0</th>\n",
       "      <td>RBR</td>\n",
       "      <td>RIO BRANCO DO SUL</td>\n",
       "      <td>PR</td>\n",
       "      <td>83540</td>\n",
       "      <td>-25,3376341952381</td>\n",
       "      <td>-49,2647206238095</td>\n",
       "      <td>-0,442225141372809</td>\n",
       "      <td>-0,859831579960631</td>\n",
       "    </tr>\n",
       "    <tr>\n",
       "      <th>1</th>\n",
       "      <td>VRA</td>\n",
       "      <td>VIDAL RAMOS</td>\n",
       "      <td>SC</td>\n",
       "      <td>88443</td>\n",
       "      <td>-27,3313244</td>\n",
       "      <td>-49,4544744333333</td>\n",
       "      <td>-0,477021599710664</td>\n",
       "      <td>-0,863143408705024</td>\n",
       "    </tr>\n",
       "    <tr>\n",
       "      <th>2</th>\n",
       "      <td>SLT</td>\n",
       "      <td>SALTO DE PIRAPORA</td>\n",
       "      <td>SP</td>\n",
       "      <td>18160</td>\n",
       "      <td>-23,6679697772727</td>\n",
       "      <td>-47,5948296681818</td>\n",
       "      <td>-0,413083999875918</td>\n",
       "      <td>-0,830686484635653</td>\n",
       "    </tr>\n",
       "    <tr>\n",
       "      <th>3</th>\n",
       "      <td>ITM</td>\n",
       "      <td>ITAU DE MINAS</td>\n",
       "      <td>MG</td>\n",
       "      <td>37975</td>\n",
       "      <td>-20,74468789</td>\n",
       "      <td>-46,7534126</td>\n",
       "      <td>-0,362063105979095</td>\n",
       "      <td>-0,816000986413403</td>\n",
       "    </tr>\n",
       "    <tr>\n",
       "      <th>4</th>\n",
       "      <td>CAN</td>\n",
       "      <td>CANTAGALO</td>\n",
       "      <td>RJ</td>\n",
       "      <td>28500</td>\n",
       "      <td>-21,9552787928571</td>\n",
       "      <td>-42,3413491214286</td>\n",
       "      <td>-0,383191903128643</td>\n",
       "      <td>-0,738995951905337</td>\n",
       "    </tr>\n",
       "  </tbody>\n",
       "</table>\n",
       "</div>"
      ],
      "text/plain": [
       "  Unidade             Cidade Estado    CEP        Lat (graus)  \\\n",
       "0     RBR  RIO BRANCO DO SUL     PR  83540  -25,3376341952381   \n",
       "1     VRA        VIDAL RAMOS     SC  88443        -27,3313244   \n",
       "2     SLT  SALTO DE PIRAPORA     SP  18160  -23,6679697772727   \n",
       "3     ITM      ITAU DE MINAS     MG  37975       -20,74468789   \n",
       "4     CAN          CANTAGALO     RJ  28500  -21,9552787928571   \n",
       "\n",
       "        Long (graus)           Lat (rad)          Long (rad)  \n",
       "0  -49,2647206238095  -0,442225141372809  -0,859831579960631  \n",
       "1  -49,4544744333333  -0,477021599710664  -0,863143408705024  \n",
       "2  -47,5948296681818  -0,413083999875918  -0,830686484635653  \n",
       "3        -46,7534126  -0,362063105979095  -0,816000986413403  \n",
       "4  -42,3413491214286  -0,383191903128643  -0,738995951905337  "
      ]
     },
     "execution_count": 2,
     "metadata": {},
     "output_type": "execute_result"
    }
   ],
   "source": [
    "df = pd.read_csv('../../data/fabricas.csv')\n",
    "df.head()"
   ]
  },
  {
   "cell_type": "code",
   "execution_count": 3,
   "id": "e7d813e2-bc9d-4ce0-a8ee-6bdc5a09033a",
   "metadata": {
    "tags": []
   },
   "outputs": [],
   "source": [
    "df = df.rename(columns={'Lat (graus)': 'lat', 'Long (graus)': 'long'})\n",
    "df = df[['Unidade', 'Cidade', 'Estado', 'CEP', 'lat', 'long']]\n",
    "df.to_csv('../../data/final_fabricas.csv', index=False)"
   ]
  }
 ],
 "metadata": {
  "kernelspec": {
   "display_name": "Python 3 (ipykernel)",
   "language": "python",
   "name": "python3"
  },
  "language_info": {
   "codemirror_mode": {
    "name": "ipython",
    "version": 3
   },
   "file_extension": ".py",
   "mimetype": "text/x-python",
   "name": "python",
   "nbconvert_exporter": "python",
   "pygments_lexer": "ipython3",
   "version": "3.8.10"
  }
 },
 "nbformat": 4,
 "nbformat_minor": 5
}
